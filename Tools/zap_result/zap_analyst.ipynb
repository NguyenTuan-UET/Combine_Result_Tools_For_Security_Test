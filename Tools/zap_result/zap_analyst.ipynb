{
 "cells": [
  {
   "cell_type": "code",
   "execution_count": 1,
   "id": "edb87157",
   "metadata": {},
   "outputs": [
    {
     "name": "stderr",
     "output_type": "stream",
     "text": [
      "d:\\VNU\\Lab\\Tools\\.venv\\Lib\\site-packages\\datascience\\maps.py:13: UserWarning: pkg_resources is deprecated as an API. See https://setuptools.pypa.io/en/latest/pkg_resources.html. The pkg_resources package is slated for removal as early as 2025-11-30. Refrain from using this package or pin to Setuptools<81.\n",
      "  import pkg_resources\n"
     ]
    }
   ],
   "source": [
    "import numpy as np\n",
    "from datascience import *\n",
    "import pandas as pd\n",
    "\n",
    "import os\n",
    "import re\n",
    "import json"
   ]
  },
  {
   "cell_type": "markdown",
   "id": "f921d0f0",
   "metadata": {},
   "source": [
    "## Phân tích .json"
   ]
  },
  {
   "cell_type": "code",
   "execution_count": null,
   "id": "e51375b5",
   "metadata": {},
   "outputs": [
    {
     "name": "stdout",
     "output_type": "stream",
     "text": [
      "Đã đọc thành công file: sqli.json\n",
      "\n",
      "Đang xử lý alert: 'SQL Injection' (pluginid: 40018)\n",
      "\n",
      "Đang xử lý alert: 'SQL Injection - Hypersonic SQL' (pluginid: 40018)\n",
      "\n",
      "Đã xử lý các alert mục tiêu.\n",
      "\n",
      "Đã lưu 170 tên test case vào file: found_testcase\\cmdi_2_testcase.txt\n"
     ]
    }
   ],
   "source": [
    "import json\n",
    "import os\n",
    "from urllib.parse import urlparse\n",
    "\n",
    "# --- 1. Định nghĩa đường dẫn file ---\n",
    "# Đảm bảo đường dẫn này khớp với vị trí của file sqli.json của bạn\n",
    "zap_json_file_path = 'sqli.json' \n",
    "output_directory = 'founded_testcase'\n",
    "output_file_name = 'cmdi_2_testcase.txt' # Đổi tên file output cho phù hợp với việc tìm kiếm nhiều loại\n",
    "\n",
    "# Xây dựng đường dẫn đầy đủ cho file đầu ra\n",
    "output_full_path = os.path.join(output_directory, output_file_name)\n",
    "\n",
    "# --- 2. Đảm bảo thư mục đầu ra tồn tại ---\n",
    "os.makedirs(output_directory, exist_ok=True)\n",
    "\n",
    "# --- 3. Đọc dữ liệu từ file JSON của ZAP ---\n",
    "zap_data = {}\n",
    "try:\n",
    "    with open(zap_json_file_path, 'r', encoding='utf-8') as f:\n",
    "        zap_data = json.load(f)\n",
    "    print(f\"Đã đọc thành công file: {zap_json_file_path}\")\n",
    "except FileNotFoundError:\n",
    "    print(f\"Lỗi: Không tìm thấy file '{zap_json_file_path}'. Vui lòng kiểm tra lại đường dẫn.\")\n",
    "    exit()\n",
    "except json.JSONDecodeError:\n",
    "    print(f\"Lỗi: Không thể giải mã JSON từ file '{zap_json_file_path}'. Đảm bảo đây là file JSON hợp lệ.\")\n",
    "    exit()\n",
    "\n",
    "# --- 4. Xử lý dữ liệu và trích xuất tên test case ---\n",
    "found_testcases = set() # Dùng set để tránh trùng lặp\n",
    "\n",
    "# Định nghĩa danh sách các tên alert mục tiêu\n",
    "target_alert_names = [\n",
    "    \"SQL Injection\",\n",
    "    \"SQL Injection - Hypersonic SQL\"\n",
    "]\n",
    "\n",
    "# Cờ để kiểm tra xem ít nhất một trong các alert mục tiêu có được tìm thấy không\n",
    "any_target_alert_found_in_report = False \n",
    "\n",
    "# Kiểm tra và duyệt qua danh sách 'site'\n",
    "if isinstance(zap_data, dict) and 'site' in zap_data and isinstance(zap_data['site'], list):\n",
    "    for site_obj in zap_data['site']:\n",
    "        if isinstance(site_obj, dict) and 'alerts' in site_obj:\n",
    "            alerts_list = site_obj['alerts']\n",
    "            \n",
    "            if isinstance(alerts_list, list):\n",
    "                for alert in alerts_list:\n",
    "                    # Kiểm tra nếu tên alert hiện tại nằm trong danh sách các alert mục tiêu\n",
    "                    if alert.get('alert') in target_alert_names:\n",
    "                        any_target_alert_found_in_report = True\n",
    "                        print(f\"\\nĐang xử lý alert: '{alert.get('alert')}' (pluginid: {alert.get('pluginid')})\") # In ra alert đang xử lý\n",
    "\n",
    "                        instances = alert.get('instances', [])\n",
    "                        if isinstance(instances, list):\n",
    "                            for instance in instances:\n",
    "                                uri = instance.get('uri')\n",
    "                                if uri:\n",
    "                                    parsed_uri = urlparse(uri)\n",
    "                                    path_segments = parsed_uri.path.split('/')\n",
    "                                    \n",
    "                                    testcase_name = None\n",
    "                                    for segment in path_segments:\n",
    "                                        if segment.startswith('BenchmarkTest'):\n",
    "                                            testcase_name = segment.split('.')[0]\n",
    "                                            break\n",
    "                                    \n",
    "                                    if testcase_name:\n",
    "                                        found_testcases.add(testcase_name)\n",
    "                            \n",
    "                            # Cảnh báo nếu không có instance hoặc URI hợp lệ trong alert này\n",
    "                            if not found_testcases and not alert.get('instances'):\n",
    "                                print(f\"Cảnh báo: Alert '{alert.get('alert')}' được tìm thấy nhưng không có 'instances' nào chứa URI hợp lệ.\")\n",
    "                        else:\n",
    "                            print(f\"Cảnh báo: Alert '{alert.get('alert')}' được tìm thấy nhưng phần 'instances' không phải là danh sách.\")\n",
    "else:\n",
    "    print(\"Lỗi: Cấu trúc JSON không có key 'site' ở cấp cao nhất hoặc 'site' không phải là danh sách.\")\n",
    "\n",
    "# In thông báo tổng quan về alert đã tìm thấy (nếu có)\n",
    "if any_target_alert_found_in_report:\n",
    "    print(f\"\\nĐã xử lý các alert mục tiêu.\")\n",
    "else: # Chỉ in nếu cấu trúc 'site' tồn tại nhưng không tìm thấy alert nào trong danh sách mục tiêu\n",
    "    print(f\"Không tìm thấy bất kỳ alert nào trong danh sách {target_alert_names} trong báo cáo.\")\n",
    "\n",
    "\n",
    "# --- 5. Lưu các test case tìm được vào file ---\n",
    "if found_testcases:\n",
    "    with open(output_full_path, 'w', encoding='utf-8') as f:\n",
    "        for tc in sorted(list(found_testcases)): # Sắp xếp để dễ đọc\n",
    "            f.write(tc + '\\n')\n",
    "    print(f\"\\nĐã lưu {len(found_testcases)} tên test case vào file: {output_full_path}\")\n",
    "else:\n",
    "    print(f\"\\nKhông tìm thấy test case nào cho các loại alert {target_alert_names} để lưu.\")"
   ]
  },
  {
   "cell_type": "markdown",
   "id": "69ab8add",
   "metadata": {},
   "source": [
    "## Đọc expected result \n"
   ]
  },
  {
   "cell_type": "code",
   "execution_count": 3,
   "id": "7e6630e8",
   "metadata": {},
   "outputs": [
    {
     "data": {
      "text/html": [
       "<table border=\"1\" class=\"dataframe\">\n",
       "    <thead>\n",
       "        <tr>\n",
       "            <th>test_name</th> <th>category</th> <th>real_vulnerability</th> <th>cwe</th>\n",
       "        </tr>\n",
       "    </thead>\n",
       "    <tbody>\n",
       "        <tr>\n",
       "            <td>BenchmarkTest00001</td> <td>pathtraver</td> <td>True              </td> <td>22  </td>\n",
       "        </tr>\n",
       "        <tr>\n",
       "            <td>BenchmarkTest00002</td> <td>pathtraver</td> <td>True              </td> <td>22  </td>\n",
       "        </tr>\n",
       "        <tr>\n",
       "            <td>BenchmarkTest00003</td> <td>hash      </td> <td>True              </td> <td>328 </td>\n",
       "        </tr>\n",
       "        <tr>\n",
       "            <td>BenchmarkTest00004</td> <td>trustbound</td> <td>True              </td> <td>501 </td>\n",
       "        </tr>\n",
       "        <tr>\n",
       "            <td>BenchmarkTest00005</td> <td>crypto    </td> <td>True              </td> <td>327 </td>\n",
       "        </tr>\n",
       "    </tbody>\n",
       "</table>\n",
       "<p>... (2735 rows omitted)</p>"
      ],
      "text/plain": [
       "<IPython.core.display.HTML object>"
      ]
     },
     "metadata": {},
     "output_type": "display_data"
    }
   ],
   "source": [
    "# Đọc CSV và chỉ lấy 4 cột đầu\n",
    "expected = Table.read_table(\"D:/VNU/Lab/Tools/expected_results.csv\").select(0, 1, 2, 3)\n",
    "# Đổi tên cột cho chuẩn: xóa khoảng trắng thừa\n",
    "expected = (expected\n",
    "            .relabeled(\"# test name\", \"test_name\")\n",
    "            .relabeled(\" category\", \"category\")\n",
    "            .relabeled(\" real vulnerability\", \"real_vulnerability\")\n",
    "            .relabeled(\" cwe\", \"cwe\")\n",
    "           )\n",
    "\n",
    "# Kiểm tra kết quả\n",
    "expected.show(5)"
   ]
  },
  {
   "cell_type": "markdown",
   "id": "9dff8dd7",
   "metadata": {},
   "source": [
    "## Tách expected theo các category "
   ]
  },
  {
   "cell_type": "code",
   "execution_count": 4,
   "id": "3ef74533",
   "metadata": {},
   "outputs": [
    {
     "name": "stdout",
     "output_type": "stream",
     "text": [
      "🔎 Danh sách các category đã tạo bảng con:\n",
      "- cmdi\n",
      "- crypto\n",
      "- hash\n",
      "- ldapi\n",
      "- pathtraver\n",
      "- securecookie\n",
      "- sqli\n",
      "- trustbound\n",
      "- weakrand\n",
      "- xpathi\n",
      "- xss\n"
     ]
    }
   ],
   "source": [
    "# Lấy tất cả category duy nhất\n",
    "categories = np.unique(expected.column(\"category\"))\n",
    "\n",
    "# Tạo dictionary: key=category, value=bảng con\n",
    "category = {cat: expected.where(\"category\", cat) for cat in categories}\n",
    "\n",
    "print(\"🔎 Danh sách các category đã tạo bảng con:\")\n",
    "for cat in category.keys():\n",
    "    print(f\"- {cat}\")\n"
   ]
  },
  {
   "cell_type": "code",
   "execution_count": 5,
   "id": "443ae534",
   "metadata": {},
   "outputs": [
    {
     "data": {
      "text/html": [
       "<table border=\"1\" class=\"dataframe\">\n",
       "    <thead>\n",
       "        <tr>\n",
       "            <th>test_name</th> <th>category</th> <th>real_vulnerability</th> <th>cwe</th>\n",
       "        </tr>\n",
       "    </thead>\n",
       "    <tbody>\n",
       "        <tr>\n",
       "            <td>BenchmarkTest00016</td> <td>securecookie</td> <td>False             </td> <td>614 </td>\n",
       "        </tr>\n",
       "        <tr>\n",
       "            <td>BenchmarkTest00087</td> <td>securecookie</td> <td>True              </td> <td>614 </td>\n",
       "        </tr>\n",
       "        <tr>\n",
       "            <td>BenchmarkTest00088</td> <td>securecookie</td> <td>False             </td> <td>614 </td>\n",
       "        </tr>\n",
       "        <tr>\n",
       "            <td>BenchmarkTest00089</td> <td>securecookie</td> <td>False             </td> <td>614 </td>\n",
       "        </tr>\n",
       "        <tr>\n",
       "            <td>BenchmarkTest00169</td> <td>securecookie</td> <td>True              </td> <td>614 </td>\n",
       "        </tr>\n",
       "    </tbody>\n",
       "</table>\n",
       "<p>... (62 rows omitted)</p>"
      ],
      "text/plain": [
       "<IPython.core.display.HTML object>"
      ]
     },
     "metadata": {},
     "output_type": "display_data"
    },
    {
     "name": "stdout",
     "output_type": "stream",
     "text": [
      "✅ True: 36 | False: 31\n"
     ]
    }
   ],
   "source": [
    "t = category[\"securecookie\"]\n",
    "t.show(5)\n",
    "print(\"✅ True:\", t.where(\"real_vulnerability\", True).num_rows, \n",
    "      \"| False:\", t.where(\"real_vulnerability\", False).num_rows)\n"
   ]
  },
  {
   "cell_type": "markdown",
   "id": "d6bad9d8",
   "metadata": {},
   "source": [
    "## Đánh giá\n"
   ]
  },
  {
   "cell_type": "code",
   "execution_count": null,
   "id": "9f290727",
   "metadata": {},
   "outputs": [
    {
     "name": "stdout",
     "output_type": "stream",
     "text": [
      "[cmdi_testcase.txt] ✅ TP:67 FP:0 FN:59 TN:125\n",
      "[pathtraver_testcase.txt] ✅ TP:15 FP:0 FN:118 TN:135\n",
      "[securecookie_testcase.txt] ✅ TP:36 FP:4 FN:0 TN:27\n",
      "[sqli_testcase.txt] ✅ TP:161 FP:9 FN:111 TN:223\n",
      "[xss_testcase.txt] ✅ TP:137 FP:0 FN:109 TN:209\n",
      "\n",
      "✅ Kết quả tổng hợp confusion matrix cho tất cả file cleaned:\n"
     ]
    },
    {
     "data": {
      "text/html": [
       "<table border=\"1\" class=\"dataframe\">\n",
       "    <thead>\n",
       "        <tr>\n",
       "            <th>Category</th> <th>True Positive</th> <th>False Positive</th> <th>False Negative</th> <th>True Negative</th>\n",
       "        </tr>\n",
       "    </thead>\n",
       "    <tbody>\n",
       "        <tr>\n",
       "            <td>cmdi        </td> <td>67           </td> <td>0             </td> <td>59            </td> <td>125          </td>\n",
       "        </tr>\n",
       "        <tr>\n",
       "            <td>pathtraver  </td> <td>15           </td> <td>0             </td> <td>118           </td> <td>135          </td>\n",
       "        </tr>\n",
       "        <tr>\n",
       "            <td>securecookie</td> <td>36           </td> <td>4             </td> <td>0             </td> <td>27           </td>\n",
       "        </tr>\n",
       "        <tr>\n",
       "            <td>sqli        </td> <td>161          </td> <td>9             </td> <td>111           </td> <td>223          </td>\n",
       "        </tr>\n",
       "        <tr>\n",
       "            <td>xss         </td> <td>137          </td> <td>0             </td> <td>109           </td> <td>209          </td>\n",
       "        </tr>\n",
       "    </tbody>\n",
       "</table>"
      ],
      "text/plain": [
       "<IPython.core.display.HTML object>"
      ]
     },
     "metadata": {},
     "output_type": "display_data"
    }
   ],
   "source": [
    "from datascience import Table\n",
    "\n",
    "found_folder = \"D:/VNU/Lab/Tools/zap_result/founded_testcase\"\n",
    "results = []\n",
    "\n",
    "for filename in os.listdir(found_folder):\n",
    "    if filename.endswith(\"_testcase.txt\"):\n",
    "        filepath = os.path.join(found_folder, filename)\n",
    "        prefix = filename.replace(\"_testcase.txt\", \"\")\n",
    "\n",
    "        # 1) Đọc testcase từ file cleaned → D\n",
    "        with open(filepath, 'r', encoding='utf-8') as f:\n",
    "            lines = f.readlines()\n",
    "\n",
    "        D = set()\n",
    "        for line in lines:\n",
    "            line = line.strip()\n",
    "            if line and not line.startswith(\"[\"):\n",
    "                D.add(line)\n",
    "\n",
    "        # 2) Lấy bảng con E từ category\n",
    "        if prefix not in category:\n",
    "            print(f\"⚠️ Bỏ qua {filename} vì không tìm thấy category['{prefix}']\")\n",
    "            continue\n",
    "\n",
    "        E = category[prefix]\n",
    "        TP = FP = FN = TN = 0\n",
    "\n",
    "        for t in E.rows:\n",
    "            test_name = t[0]\n",
    "            real_vuln = t[2]\n",
    "\n",
    "            if test_name in D:\n",
    "                if real_vuln:\n",
    "                    TP += 1\n",
    "                else:\n",
    "                    FP += 1\n",
    "            else:\n",
    "                if real_vuln:\n",
    "                    FN += 1\n",
    "                else:\n",
    "                    TN += 1\n",
    "\n",
    "        print(f\"[{filename}] ✅ TP:{TP} FP:{FP} FN:{FN} TN:{TN}\")\n",
    "\n",
    "        results.append([prefix, TP, FP, FN, TN])\n",
    "\n",
    "# 3) Tạo bảng tổng hợp\n",
    "final_result = Table().with_columns(\n",
    "    \"Category\", [r[0] for r in results],\n",
    "    \"True Positive\", [r[1] for r in results],\n",
    "    \"False Positive\", [r[2] for r in results],\n",
    "    \"False Negative\", [r[3] for r in results],\n",
    "    \"True Negative\", [r[4] for r in results]\n",
    ")\n",
    "\n",
    "print(\"\\n✅ Kết quả tổng hợp confusion matrix cho tất cả file cleaned:\")\n",
    "final_result.show()\n"
   ]
  }
 ],
 "metadata": {
  "kernelspec": {
   "display_name": ".venv",
   "language": "python",
   "name": "python3"
  },
  "language_info": {
   "codemirror_mode": {
    "name": "ipython",
    "version": 3
   },
   "file_extension": ".py",
   "mimetype": "text/x-python",
   "name": "python",
   "nbconvert_exporter": "python",
   "pygments_lexer": "ipython3",
   "version": "3.13.5"
  }
 },
 "nbformat": 4,
 "nbformat_minor": 5
}
